{
 "cells": [
  {
   "cell_type": "markdown",
   "metadata": {},
   "source": [
    "## Generating heatmaps for all crimes"
   ]
  },
  {
   "cell_type": "code",
   "execution_count": 1,
   "metadata": {},
   "outputs": [],
   "source": [
    "import os\n",
    "import codecs"
   ]
  },
  {
   "cell_type": "code",
   "execution_count": 2,
   "metadata": {},
   "outputs": [],
   "source": [
    "path = 'heatmap_template.htm'\n",
    "template = codecs.open('/Users/Julian/Documents/CompSci/Numedi-Internship/BostonCrimeMap/heatmap_template.html', 'r', 'utf-8')\n",
    "contents = template.read()\n",
    "template.close()"
   ]
  },
  {
   "cell_type": "code",
   "execution_count": 3,
   "metadata": {},
   "outputs": [],
   "source": [
    "path = '/Users/Julian/Documents/CompSci/Numedi-Internship/BostonCrimeMap/coordinates'\n",
    "os_info = os.walk(path)\n",
    "for root, dirs, files in os_info:\n",
    "    coord_dir = files"
   ]
  },
  {
   "cell_type": "code",
   "execution_count": 4,
   "metadata": {},
   "outputs": [],
   "source": [
    "for file in coord_dir:\n",
    "    coord_file = open('/Users/Julian/Documents/CompSci/Numedi-Internship/BostonCrimeMap/coordinates/' + file, 'r')\n",
    "    coords = coord_file.read()\n",
    "    coord_file.close()\n",
    "    lines = contents.splitlines()\n",
    "    first = '\\n'.join(lines[0:103])\n",
    "    last = '\\n'.join(lines[103:])\n",
    "    for line in coords.splitlines():\n",
    "        first += '\\t\\t\\t' + line + '\\n'\n",
    "    html_string = first + last\n",
    "    file_name = file.replace('.txt', '')\n",
    "    template = open('/Users/Julian/Documents/CompSci/Numedi-Internship/BostonCrimeMap/heatmaps/' + file_name + '_heatmap.html', 'w+')\n",
    "    template.write(html_string)\n",
    "    template.close()\n",
    "    "
   ]
  }
 ],
 "metadata": {
  "kernelspec": {
   "display_name": "Python 3",
   "language": "python",
   "name": "python3"
  },
  "language_info": {
   "codemirror_mode": {
    "name": "ipython",
    "version": 3
   },
   "file_extension": ".py",
   "mimetype": "text/x-python",
   "name": "python",
   "nbconvert_exporter": "python",
   "pygments_lexer": "ipython3",
   "version": "3.7.4"
  }
 },
 "nbformat": 4,
 "nbformat_minor": 2
}
