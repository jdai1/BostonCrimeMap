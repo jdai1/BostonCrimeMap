{
 "cells": [
  {
   "cell_type": "markdown",
   "metadata": {},
   "source": [
    "## Generating coordinates for all crimes"
   ]
  },
  {
   "cell_type": "code",
   "execution_count": 2,
   "metadata": {},
   "outputs": [],
   "source": [
    "import pandas as pd\n",
    "import math"
   ]
  },
  {
   "cell_type": "code",
   "execution_count": 3,
   "metadata": {},
   "outputs": [],
   "source": [
    "df = pd.read_csv('/Users/Julian/Documents/CompSci/Numedi-Internship/BostonCrimeMap/tmpeq_466v8.csv', delimiter = ',')"
   ]
  },
  {
   "cell_type": "code",
   "execution_count": 4,
   "metadata": {},
   "outputs": [],
   "source": [
    "df = df[['OFFENSE_CODE_GROUP', 'Lat', 'Long']]"
   ]
  },
  {
   "cell_type": "code",
   "execution_count": 4,
   "metadata": {},
   "outputs": [
    {
     "data": {
      "text/plain": [
       "Index(['Aggravated Assault', 'Aircraft', 'Arson',\n",
       "       'Assembly or Gathering Violations', 'Auto Theft', 'Auto Theft Recovery',\n",
       "       'Ballistics', 'Biological Threat', 'Bomb Hoax',\n",
       "       'Burglary - No Property Taken', 'Commercial Burglary',\n",
       "       'Confidence Games', 'Counterfeiting', 'Criminal Harassment',\n",
       "       'Disorderly Conduct', 'Drug Violation', 'Embezzlement', 'Evading Fare',\n",
       "       'Explosives', 'Fire Related Reports', 'Firearm Discovery',\n",
       "       'Firearm Violations', 'Fraud', 'Gambling', 'HOME INVASION',\n",
       "       'HUMAN TRAFFICKING', 'HUMAN TRAFFICKING - INVOLUNTARY SERVITUDE',\n",
       "       'Harassment', 'Harbor Related Incidents', 'Homicide',\n",
       "       'INVESTIGATE PERSON', 'Investigate Person', 'Investigate Property',\n",
       "       'Landlord/Tenant Disputes', 'Larceny', 'Larceny From Motor Vehicle',\n",
       "       'License Plate Related Incidents', 'License Violation',\n",
       "       'Liquor Violation', 'Manslaughter', 'Medical Assistance',\n",
       "       'Missing Person Located', 'Missing Person Reported',\n",
       "       'Motor Vehicle Accident Response', 'Offenses Against Child / Family',\n",
       "       'Operating Under the Influence', 'Other', 'Other Burglary',\n",
       "       'Phone Call Complaints', 'Police Service Incidents',\n",
       "       'Prisoner Related Incidents', 'Property Found', 'Property Lost',\n",
       "       'Property Related Damage', 'Prostitution', 'Recovered Stolen Property',\n",
       "       'Residential Burglary', 'Restraining Order Violations', 'Robbery',\n",
       "       'Search Warrants', 'Service', 'Simple Assault', 'Towed', 'Vandalism',\n",
       "       'Verbal Disputes', 'Violations', 'Warrant Arrests'],\n",
       "      dtype='object', name='OFFENSE_CODE_GROUP')"
      ]
     },
     "execution_count": 4,
     "metadata": {},
     "output_type": "execute_result"
    }
   ],
   "source": [
    "crimes = df.groupby(['OFFENSE_CODE_GROUP'])['Lat'].count().index\n",
    "crimes"
   ]
  },
  {
   "cell_type": "code",
   "execution_count": 5,
   "metadata": {},
   "outputs": [],
   "source": [
    "import os\n",
    "import shutil\n",
    "folder = '/Users/Julian/Documents/CompSci/Numedi-Internship/BostonCrimeMap/coordinates'\n",
    "#clean the coordinates directory as safety precaution\n",
    "for the_file in os.listdir(folder):\n",
    "    file_path = os.path.join(folder, the_file)\n",
    "    try:\n",
    "        if os.path.isfile(file_path):\n",
    "            os.unlink(file_path)\n",
    "    except Exception as e:\n",
    "        pass\n",
    "#creates coordinate txt files for all crimes with 100+ coord points\n",
    "for crime in crimes:\n",
    "    crime_data = df[df['OFFENSE_CODE_GROUP'] == crime]\n",
    "    crime_data.index = range(crime_data.shape[0])\n",
    "    if crime_data.shape[0] < 100:\n",
    "        continue\n",
    "    crime_coords = []\n",
    "    for i in range(crime_data.shape[0]):\n",
    "        if math.isnan(float(crime_data.iloc[i]['Lat'])):\n",
    "            continue\n",
    "        coord = (round(float(crime_data.iloc[i]['Lat']), 6), round(float(crime_data.iloc[i]['Long']), 6))\n",
    "        if i < (crime_data.shape[0] - 1):\n",
    "            crime_coords.append('new google.maps.LatLng' +  str(coord) + ',')\n",
    "        else:\n",
    "            crime_coords.append('new google.maps.LatLng' +  str(coord))\n",
    "    file_name = crime\n",
    "    if '/' in file_name:\n",
    "        file_name = file_name.replace('/', '-')\n",
    "    if ' ' in file_name:\n",
    "        file_name = file_name.replace(' ', '_')\n",
    "    file_name = file_name.lower() + '.txt'\n",
    "    file = open('/Users/Julian/Documents/CompSci/Numedi-Internship/BostonCrimeMap/coordinates/' + file_name, 'w+')\n",
    "    for i in range(len(crime_coords)):\n",
    "        file.write(crime_coords[i] + '\\n')\n",
    "    file.close()"
   ]
  }
 ],
 "metadata": {
  "kernelspec": {
   "display_name": "Python 3",
   "language": "python",
   "name": "python3"
  },
  "language_info": {
   "codemirror_mode": {
    "name": "ipython",
    "version": 3
   },
   "file_extension": ".py",
   "mimetype": "text/x-python",
   "name": "python",
   "nbconvert_exporter": "python",
   "pygments_lexer": "ipython3",
   "version": "3.7.4"
  }
 },
 "nbformat": 4,
 "nbformat_minor": 2
}
